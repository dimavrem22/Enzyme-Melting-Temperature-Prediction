{
 "cells": [
  {
   "cell_type": "markdown",
   "id": "a6725739",
   "metadata": {},
   "source": [
    "## Dependencies"
   ]
  },
  {
   "cell_type": "code",
   "execution_count": 1,
   "id": "42deacb8",
   "metadata": {},
   "outputs": [],
   "source": [
    "import pandas as pd\n",
    "import numpy as np \n",
    "import matplotlib.pyplot as plt\n",
    "from collections import Counter\n",
    "import pprint as pp\n",
    "\n",
    "import warnings\n",
    "warnings.filterwarnings('ignore')"
   ]
  },
  {
   "cell_type": "code",
   "execution_count": 2,
   "id": "71de861e",
   "metadata": {},
   "outputs": [
    {
     "data": {
      "text/html": [
       "<div>\n",
       "<style scoped>\n",
       "    .dataframe tbody tr th:only-of-type {\n",
       "        vertical-align: middle;\n",
       "    }\n",
       "\n",
       "    .dataframe tbody tr th {\n",
       "        vertical-align: top;\n",
       "    }\n",
       "\n",
       "    .dataframe thead th {\n",
       "        text-align: right;\n",
       "    }\n",
       "</style>\n",
       "<table border=\"1\" class=\"dataframe\">\n",
       "  <thead>\n",
       "    <tr style=\"text-align: right;\">\n",
       "      <th></th>\n",
       "      <th>protein_sequence</th>\n",
       "      <th>length</th>\n",
       "      <th>tm</th>\n",
       "    </tr>\n",
       "  </thead>\n",
       "  <tbody>\n",
       "    <tr>\n",
       "      <th>0</th>\n",
       "      <td>AAAAKAAALALLGEAPEVVDIWLPAGWRQPFRVFRLERKGDGVLVG...</td>\n",
       "      <td>341</td>\n",
       "      <td>75.7</td>\n",
       "    </tr>\n",
       "    <tr>\n",
       "      <th>1</th>\n",
       "      <td>AAADGEPLHNEEERAGAGQVGRSLPQESEEQRTGSRPRRRRDLGSR...</td>\n",
       "      <td>286</td>\n",
       "      <td>50.5</td>\n",
       "    </tr>\n",
       "    <tr>\n",
       "      <th>2</th>\n",
       "      <td>AAAFSTPRATSYRILSSAGSGSTRADAPQVRRLHTTRDLLAKDYYA...</td>\n",
       "      <td>497</td>\n",
       "      <td>40.5</td>\n",
       "    </tr>\n",
       "    <tr>\n",
       "      <th>3</th>\n",
       "      <td>AAASGLRTAIPAQPLRHLLQPAPRPCLRPFGLLSVRAGSARRSGLL...</td>\n",
       "      <td>265</td>\n",
       "      <td>47.2</td>\n",
       "    </tr>\n",
       "    <tr>\n",
       "      <th>4</th>\n",
       "      <td>AACFWRRTVIPKPPFRGISTTSARSTVMPAWVIDKYGKNEVLRFTQ...</td>\n",
       "      <td>380</td>\n",
       "      <td>48.4</td>\n",
       "    </tr>\n",
       "    <tr>\n",
       "      <th>...</th>\n",
       "      <td>...</td>\n",
       "      <td>...</td>\n",
       "      <td>...</td>\n",
       "    </tr>\n",
       "    <tr>\n",
       "      <th>23457</th>\n",
       "      <td>YYMYSGGGSALAAGGGGAGRKGDWNDIDSIKKKDLHHSRGDEKAQG...</td>\n",
       "      <td>549</td>\n",
       "      <td>51.8</td>\n",
       "    </tr>\n",
       "    <tr>\n",
       "      <th>23458</th>\n",
       "      <td>YYNDQHRLSSYSVETAMFLSWERAIVKPGAMFKKAVIGFNCNVDLI...</td>\n",
       "      <td>469</td>\n",
       "      <td>37.2</td>\n",
       "    </tr>\n",
       "    <tr>\n",
       "      <th>23459</th>\n",
       "      <td>YYQRTLGAELLYKISFGEMPKSAQDSAENCPSGMQFPDTAIAHANV...</td>\n",
       "      <td>128</td>\n",
       "      <td>64.6</td>\n",
       "    </tr>\n",
       "    <tr>\n",
       "      <th>23460</th>\n",
       "      <td>YYSFSDNITTVFLSRQAIDDDHSLSLGTISDVVESENGVVAADDAR...</td>\n",
       "      <td>593</td>\n",
       "      <td>50.7</td>\n",
       "    </tr>\n",
       "    <tr>\n",
       "      <th>23461</th>\n",
       "      <td>YYVPDEYWQSLEVAHKLTFGYGYLTWEWVQGIRSYVYPLLIAGLYK...</td>\n",
       "      <td>537</td>\n",
       "      <td>37.6</td>\n",
       "    </tr>\n",
       "  </tbody>\n",
       "</table>\n",
       "<p>23462 rows × 3 columns</p>\n",
       "</div>"
      ],
      "text/plain": [
       "                                        protein_sequence  length    tm\n",
       "0      AAAAKAAALALLGEAPEVVDIWLPAGWRQPFRVFRLERKGDGVLVG...     341  75.7\n",
       "1      AAADGEPLHNEEERAGAGQVGRSLPQESEEQRTGSRPRRRRDLGSR...     286  50.5\n",
       "2      AAAFSTPRATSYRILSSAGSGSTRADAPQVRRLHTTRDLLAKDYYA...     497  40.5\n",
       "3      AAASGLRTAIPAQPLRHLLQPAPRPCLRPFGLLSVRAGSARRSGLL...     265  47.2\n",
       "4      AACFWRRTVIPKPPFRGISTTSARSTVMPAWVIDKYGKNEVLRFTQ...     380  48.4\n",
       "...                                                  ...     ...   ...\n",
       "23457  YYMYSGGGSALAAGGGGAGRKGDWNDIDSIKKKDLHHSRGDEKAQG...     549  51.8\n",
       "23458  YYNDQHRLSSYSVETAMFLSWERAIVKPGAMFKKAVIGFNCNVDLI...     469  37.2\n",
       "23459  YYQRTLGAELLYKISFGEMPKSAQDSAENCPSGMQFPDTAIAHANV...     128  64.6\n",
       "23460  YYSFSDNITTVFLSRQAIDDDHSLSLGTISDVVESENGVVAADDAR...     593  50.7\n",
       "23461  YYVPDEYWQSLEVAHKLTFGYGYLTWEWVQGIRSYVYPLLIAGLYK...     537  37.6\n",
       "\n",
       "[23462 rows x 3 columns]"
      ]
     },
     "execution_count": 2,
     "metadata": {},
     "output_type": "execute_result"
    }
   ],
   "source": [
    "data = pd.read_csv('Data/train_clean.csv')\n",
    "data"
   ]
  },
  {
   "cell_type": "markdown",
   "id": "da1531d9",
   "metadata": {},
   "source": [
    "## Generating FASTA File of All Sequences"
   ]
  },
  {
   "cell_type": "code",
   "execution_count": 3,
   "id": "5123073c",
   "metadata": {},
   "outputs": [],
   "source": [
    "fasta_str = ''\n",
    "sequences = list(data['protein_sequence'])\n",
    "for i in range(len(sequences)): \n",
    "    fasta_str += '>' + str(i) + '\\n' + sequences[i] + '\\n'\n",
    "fasta_str = fasta_str[:-1]\n",
    "\n",
    "file_name = 'Data/fasta_sequences.fasta'\n",
    "file = open(file_name, 'w')\n",
    "file.write(fasta_str)\n",
    "file.close()"
   ]
  },
  {
   "cell_type": "markdown",
   "id": "77181abf",
   "metadata": {},
   "source": [
    "## Looking at the FASTA file\n",
    "\n",
    "Sanity check...."
   ]
  },
  {
   "cell_type": "code",
   "execution_count": 4,
   "id": "8781275c",
   "metadata": {},
   "outputs": [
    {
     "name": "stdout",
     "output_type": "stream",
     "text": [
      "['>0\\n',\n",
      " 'AAAAKAAALALLGEAPEVVDIWLPAGWRQPFRVFRLERKGDGVLVGMIKDAGDDPDVTHGAEIQAFVRFASEDRLEGGEGVGVVTKPGLGVPVGEPAINPVPRRMIWEAVREVTERPLAVTIAIPGGEELAKKTLNPRLGILGGLSVLGTTGVVKPYSTSAFRMSVVQAVGVARANGLLEIAATTGGKSERFAQRLLPHLPEMAFIEMGDFVGDVLRAARKVGVEVVRVVGMIGKISKMADGKTMTHAAGGEVNLSLLLSLLKEAGASPKALKEAEGAATARRFLEIALEEGLELFFVNLVRLAQEKLQAYIGERPFVSVALTDFDEGRCLAAWPDREVYR\\n',\n",
      " '>1\\n',\n",
      " 'AAADGEPLHNEEERAGAGQVGRSLPQESEEQRTGSRPRRRRDLGSRLQAQRRAQRVAWEDGDENVGQTVIPAQEEEGIEKPAEVHPTGKIGAKKLRKLEEKQARKAQREAEEAEREERKRLESQREAEWKKEEERLRLKEEQKEEEERKAQEEQARREHEEYLKLKEAFVVEEEGVSETMTEEQSHSFLTEFINYIKKSKVVLLEDLAFQMGLRTQDAINRIQDLLTEGTLTGVIDDRGKFIYITPEELAAVANFIRQRGRVSITELAQASNSLISWGQDLPAQAS\\n',\n",
      " '>2\\n',\n",
      " 'AAAFSTPRATSYRILSSAGSGSTRADAPQVRRLHTTRDLLAKDYYATLGVAKNANGKDIKKAYYQLAKKYHPDTNKEDPDAGRKFQEVSEAYEVLSDEQKRREYDTYGQTAENIGRQGGGFPGGGAGGFGPEGFSQSWQFRSSIDPEELFRKIFGEGNFRTNSFDDFADSKFGFGQAQEMVMDLTFAQAARGVNKDVNVNVVDQCPKCAGTKCEPGTKPGRCQYCNGTGFETVSTGPFVMRSTCRYCQGTRQHIKYPCSECEGKGRTVQRRKVTVPVPAGIENGQTVRMQVGSKELFVTFRVERSDYFRREGADVHTDAAISLAQAVLGGTVRVQGVYEDQWINVEPGTSSHHKIMLRGKGLKRVNAHGHGDHYVHVKITVPSAKKLDKKRLALIEAYAELEEDTPGQIHGIANRKDGSKQATAGASEEPGAGAAAKASAAAAGSGASKPGPGAEESEGKDQWTDNKKTKAKEGGGSGSGQGDGGGGGFISKIKSMF\\n',\n",
      " '>3\\n',\n",
      " 'AAASGLRTAIPAQPLRHLLQPAPRPCLRPFGLLSVRAGSARRSGLLQPPVPCACGCGALHTEGDKAFVEFLTDEIKEEKKIQKHKSLPKMSGDWELEVNGTEAKLLRKVAGEKITVTFNINNSIPPTFDGEEEPSQGQKAEEQEPELTSTPNFVVEVTKTDGKKTLVLDCHYPEDEIGHEDEAESDIFSIKEVSFQATGDSEWRDTNYTLNTDSLDWALYDHLMDFLADRGVDNTFADELVELSTALEHQEYITFLEDLKSFVKN\\n',\n",
      " '>4\\n',\n",
      " 'AACFWRRTVIPKPPFRGISTTSARSTVMPAWVIDKYGKNEVLRFTQNMMLPIIHYPNEVIIKVHAASVNPIDVNMRSGYGATALNMKRDPLHMKTKGEEFPLTLGRDVSGVVMECGLDVKYFQPGDEVWAAVPPWKQGTLSEFVVVSGNEVSHKPKSLTHTQAASLPYVALTAWSAINKVGGLSDKNCKGKRALILGASGGVGTFAIQVMKAWGAHVTAVCSKDASELVRKLGADEVIDYTLGSVEEQLKSLKLFDFILDNVGGSTETWALNFLKKWSGATYVTLVTPFLLNMDRLGVADGMLQTGVTVGTKALKHLWQGVHYRWAFFMASGPYLDEIAELVDAGKIRPVIERTFPFSEVPEAFLKVERGHARGKTVVNV\\n']\n"
     ]
    }
   ],
   "source": [
    "# first few lines of the file\n",
    "file = open(file_name, 'r')\n",
    "lines = file.readlines()\n",
    "pp.pprint(lines[:10])"
   ]
  },
  {
   "cell_type": "code",
   "execution_count": 5,
   "id": "e1dc1090",
   "metadata": {},
   "outputs": [
    {
     "name": "stdout",
     "output_type": "stream",
     "text": [
      "['>23457\\n',\n",
      " 'YYMYSGGGSALAAGGGGAGRKGDWNDIDSIKKKDLHHSRGDEKAQGVETLPPGKVRWPDFNQEAYVGGTMVRSGQDPYARNKFNQVESDKLHMDRGIPDTRHDQCQRKQWRVDLPATSVVITFHNEARSALLRTVVSVLKRSPPHLIKEIILVDDYSNDPEDGALLGKIEKVRVLRNDRREGLMRSRVRGADAAQAKVLTFLDSHCECNERWLEPLLERVAEDRTRVVSPIIDVINMDNFQYVGASADLKGGFDWNLVFKWDYMTPEQRRSRQGNPVAPIKTPMIAGGLFVMDKLYFEELGKYDMMMDVWGGENLEISFRVWQCGGSLEIIPCSRVGHVFRKQHPYTFPGGSGTVFARNTRRAAEVWMDEYKHFYYAAVPSARNVPYGNIQSRLELRKKLGCKPFKWYLDNVYPELRVPDHQDIAFGALQQGTNCLDTLGHFADGVVGIYECHNAGGNQEWALTKEKSVKHMDLCLTVVDRSPGSLIRLQGCRENDSRQKWEQIEGNSKLRHVGSNLCLDSRTAKSGGLSVEVCGPALSQQWKFSLNLQ\\n',\n",
      " '>23458\\n',\n",
      " 'YYNDQHRLSSYSVETAMFLSWERAIVKPGAMFKKAVIGFNCNVDLIVSGVRVVDALNTTCSEGKDQETLETLADLHQTFAHFFQRGAAAERYMSSEDQFNLLVAESEASTRSHHHIGGNAALMADRIAANFPSTEVYLVGPIGPRSQALLHPSVKRTNSTRILKDELHVILEYKQGEILGDWVAPSSSRFITSHDHFSGSMVVMEMFFKAIAQFRPDLVVITGVHLLEFQSKEMRQEKMRLIKRNLLQIPPKVPIHLELGSLADEIFSTDVINKILPYVDSLGINEQELTFLSHIANGPHMEEYPVQAGTVHVHKVVEMLHWLLKTYGRDPTGQIASKTGYRLSRIHFHCLTYHIMVSSGTDWSNLAAGLAAGARIAGRLSCNIGANTMDSELLEIRTPANFVLDKKIEKNYQFEAHNPIASWMREDVLFVFTPVLVCRLPSKTVGIDDAISATGLLYSQFYRLNRPTH\\n',\n",
      " '>23459\\n',\n",
      " 'YYQRTLGAELLYKISFGEMPKSAQDSAENCPSGMQFPDTAIAHANVRIAGSDIMMSDAMPSGKASYSGFTLVLDSQQVEEGKRWFDNLAANGKIEMAWQETFWAHGFGKVTDKFGVPWMINVVKQQPT\\n',\n",
      " '>23460\\n',\n",
      " 'YYSFSDNITTVFLSRQAIDDDHSLSLGTISDVVESENGVVAADDARCSEIGASVLRSGGHAVDAAVAITLCVGVVNPMSSGIGGGSFLIVSSQKDSKAEAFDMRETAPLAASKDMYKNDASAKSLGALSMGVPGEIAGLYEAWKRYGRLPWKPLFEPAIKLARDGFVVYPYLGKAISTKVAMILKDPGMRSVFSRNGQVLKTGETCYNPELAQSLETISEQGPGAFYNGTVGEKLVKDVKKAGGIITMDDLRSYKVRVTDAMSVDVMGYTVHGMPPPSGGTVGFSMVMNILDSYSNLYTASGRELGLHRLIEAMKHMFAARMDLGDPEFVNVTNSMNQMLSKAHAEEIQKRIFDNTTFPPEYYMNRWSQLRDQGTSHFCVVDADRNSVSMTSTVNYRFGAGVLSPSTGIVLNNEMDDFSTPTEITPDMLPPAPTNFIEPNKRPLSSMTPLVITKDGEFVAALGGAGGMHIIPAVLQVFLNCFVLNMKPKEAVESARIYHRLIPNVVSYENFTTINGDHIGVSEDTKMFLAERGHELKELSGGAIVQLIVQSFKEEKEEEMIIEIGRKIGKKSKPLKGLLTAVSDPRKDGKPAA\\n',\n",
      " '>23461\\n',\n",
      " 'YYVPDEYWQSLEVAHKLTFGYGYLTWEWVQGIRSYVYPLLIAGLYKILALLQLDSAHLLVVLPRIVQALLSAYSDYRFFVWTGKRKWALFLILVPWFWFYTGSRTLANTLEASLTTIALSYFPWYGESTAYLWPAAICCFLRPTAAVIWLPLSLYHLRRSRQNVLELILKRFVLIGLLVAGLGIAIDTYWHGQLIVTPYEFLKYNIFNNIGSFYGSHPWHWYFSVGLPTVLGINTLPFIFGVMETVKKSEKYPVSKQLLITIFLTLVVLSAVEHKEFRFVSPLLPLCLYVITDALSRWSIRASSTMLWTTALVILVGNVMPAWYLSTVHQKGPIELMPKLREIAREYRDEREHQANILFLMPCHSTPYYSHIHQNVTMRFLTCEPNLEKKEQYKDEADRFFEDPVHWINSHIPMHPLTALPTHVVLFDPLAENISVFLRNYRLLHRIEHAEVTRLEGSQALVDQWSEALGAQSPNLASLLQNRQSRTGRSILVYQRLKKGEENAFNRGPDSGQHEPDVHDHPPLEDLVLANENENLF']\n"
     ]
    }
   ],
   "source": [
    "# last few lines of the file\n",
    "pp.pprint(lines[-10:])"
   ]
  }
 ],
 "metadata": {
  "kernelspec": {
   "display_name": "Python 3 (ipykernel)",
   "language": "python",
   "name": "python3"
  },
  "language_info": {
   "codemirror_mode": {
    "name": "ipython",
    "version": 3
   },
   "file_extension": ".py",
   "mimetype": "text/x-python",
   "name": "python",
   "nbconvert_exporter": "python",
   "pygments_lexer": "ipython3",
   "version": "3.8.0"
  }
 },
 "nbformat": 4,
 "nbformat_minor": 5
}
